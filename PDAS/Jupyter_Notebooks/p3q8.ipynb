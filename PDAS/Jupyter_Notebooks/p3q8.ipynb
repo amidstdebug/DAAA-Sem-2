{
 "cells": [
  {
   "cell_type": "code",
   "execution_count": 934,
   "outputs": [
    {
     "name": "stdout",
     "output_type": "stream",
     "text": [
      "[[ 7  1  9 14  9]\n",
      " [ 4 16 13 13 16]\n",
      " [12  8  8 18  9]]\n",
      "[[ 4  1  8 13  9]\n",
      " [ 7  8  9 14  9]\n",
      " [12 16 13 18 16]]\n"
     ]
    }
   ],
   "source": [
    "import numpy as np\n",
    "\n",
    "arr_2 = np.random.randint(1,20,(3,5))\n",
    "\n",
    "print(arr_2)\n",
    "\n",
    "arr_3 = np.sort(arr_2,axis=0)\n",
    "\n",
    "print(arr_3)"
   ],
   "metadata": {
    "collapsed": false,
    "pycharm": {
     "name": "#%%\n"
    }
   }
  },
  {
   "cell_type": "code",
   "execution_count": 935,
   "outputs": [
    {
     "name": "stdout",
     "output_type": "stream",
     "text": [
      "[[174 177 109 146 124]\n",
      " [162 177 143 177 154]]\n",
      "[[174 177 109 146 124]\n",
      " [162 177 143 177 154]]\n",
      "[[109 124 146 174 177]\n",
      " [143 154 162 177 177]]\n"
     ]
    }
   ],
   "source": [
    "arr_3 = np.random.randint(100,200,(2,5))\n",
    "arr_4 = np.copy(arr_3)\n",
    "\n",
    "print(arr_3)\n",
    "\n",
    "arr_5 = np.sort(arr_4,axis=1)\n",
    "print(arr_4)\n",
    "print(arr_5)\n"
   ],
   "metadata": {
    "collapsed": false,
    "pycharm": {
     "name": "#%%\n"
    }
   }
  },
  {
   "cell_type": "code",
   "execution_count": 936,
   "outputs": [
    {
     "name": "stdout",
     "output_type": "stream",
     "text": [
      "[ 1  2  3  4  5  6  7  8  9 10 11 12 13 14 15 16 17 18 19 20 21 22 23 24\n",
      " 25 26 27 28 29 30 31 32 33 34 35 36 37 38 39 40 41 42 43 44 45 46 47 48\n",
      " 49 50 51 52 53 54 55 56 57 58 59 60 61 62 63 64 65 66 67 68 69 70 71 72\n",
      " 73 74 75 76 77 78 79 80 81 82 83 84 85 86 87 88 89 90 91 92 93 94 95 96\n",
      " 97 98 99]\n",
      "[[  1   2   3   4]\n",
      " [100 200 300 400]\n",
      " [  5   6   7   8]\n",
      " [  9  10  11  12]]\n",
      "[  4 400   8  12]\n"
     ]
    }
   ],
   "source": [
    "a = np.arange(1,100,1)\n",
    "b = np.array([[1,2,3,4], [100,200,300,400],  [5,6,7,8],  [9,10,11,12] ])\n",
    "\n",
    "print(a)\n",
    "print(b)\n",
    "\n",
    "c = np.transpose(np.copy(b))\n",
    "\n",
    "print(c[-1])"
   ],
   "metadata": {
    "collapsed": false,
    "pycharm": {
     "name": "#%%\n"
    }
   }
  },
  {
   "cell_type": "code",
   "execution_count": 937,
   "outputs": [
    {
     "name": "stdout",
     "output_type": "stream",
     "text": [
      "[[ 0  1  2  3  4  5  6  7  8  9 10 11 12 13 14 15 16 17 18 19]\n",
      " [20 21 22 23 24 25 26 27 28 29 30 31 32 33 34 35 36 37 38 39]\n",
      " [40 41 42 43 44 45 46 47 48 49 50 51 52 53 54 55 56 57 58 59]\n",
      " [60 61 62 63 64 65 66 67 68 69 70 71 72 73 74 75 76 77 78 79]\n",
      " [80 81 82 83 84 85 86 87 88 89 90 91 92 93 94 95 96 97 98 99]]\n"
     ]
    }
   ],
   "source": [
    "print(np.arange(100).reshape(5,20))"
   ],
   "metadata": {
    "collapsed": false,
    "pycharm": {
     "name": "#%%\n"
    }
   }
  },
  {
   "cell_type": "code",
   "execution_count": 938,
   "outputs": [
    {
     "name": "stdout",
     "output_type": "stream",
     "text": [
      "[[[0 1]\n",
      "  [2 3]]\n",
      "\n",
      " [[4 5]\n",
      "  [6 7]]]\n"
     ]
    }
   ],
   "source": [
    "a = np.arange(8).reshape(2,2,2)\n",
    "print(a)"
   ],
   "metadata": {
    "collapsed": false,
    "pycharm": {
     "name": "#%%\n"
    }
   }
  },
  {
   "cell_type": "code",
   "execution_count": 939,
   "outputs": [
    {
     "name": "stdout",
     "output_type": "stream",
     "text": [
      "[[ 0  1  2  3 23 21 26 21 24  9 10 11]\n",
      " [ 4  5  6  7 28 28 22 29 23 12 13 14]]\n"
     ]
    }
   ],
   "source": [
    "a = np.arange(8).reshape(2,4)\n",
    "b = np.random.randint(20,30,(2,5))\n",
    "c = np.arange(9,15).reshape(2,3)\n",
    "d = np.concatenate((a,b,c),axis=1)\n",
    "print(d)"
   ],
   "metadata": {
    "collapsed": false,
    "pycharm": {
     "name": "#%%\n"
    }
   }
  },
  {
   "cell_type": "code",
   "execution_count": 940,
   "outputs": [
    {
     "name": "stdout",
     "output_type": "stream",
     "text": [
      "[[ 1  2  3  4 12 17 15 18 13 15  0  1  2  3]\n",
      " [ 4  5  6  7 13 15 17 13 11 15  4  5  6  7]\n",
      " [ 7  8  9 10 11 15 16 12 18 19  8  9 10 11]\n",
      " [11 12 13 14 14 15 19 13 14 14 12 13 14 15]]\n"
     ]
    }
   ],
   "source": [
    "a = np.array([[ 1,2,3,4],[ 4,5,6,7],[7,8,9,10],[11,12,13,14]])\n",
    "b = np.random.randint(10,20,(4,6))\n",
    "c = np.arange(0,16).reshape(4,4 )\n",
    "print(np.concatenate((a,b,c),axis=1))"
   ],
   "metadata": {
    "collapsed": false,
    "pycharm": {
     "name": "#%%\n"
    }
   }
  },
  {
   "cell_type": "code",
   "execution_count": 941,
   "outputs": [
    {
     "name": "stdout",
     "output_type": "stream",
     "text": [
      "[[0. 1. 2.]\n",
      " [3. 4. 5.]\n",
      " [6. 7. 8.]]\n",
      "[[False False False]\n",
      " [False False False]\n",
      " [ True  True  True]]\n"
     ]
    }
   ],
   "source": [
    "b = np.arange(9.).reshape(3, 3)\n",
    "b5 = ( b > 5 )\n",
    "print(b)\n",
    "print(b5)"
   ],
   "metadata": {
    "collapsed": false,
    "pycharm": {
     "name": "#%%\n"
    }
   }
  },
  {
   "cell_type": "code",
   "execution_count": 942,
   "outputs": [
    {
     "name": "stdout",
     "output_type": "stream",
     "text": [
      "[[[ 0  1  2  3]\n",
      "  [ 4  5  6  7]\n",
      "  [ 8  9 10 11]]\n",
      "\n",
      " [[12 13 14 15]\n",
      "  [16 17 18 19]\n",
      "  [20 21 22 23]]]\n",
      "[ 0 12]\n",
      "[4 5 6 7]\n",
      "[[ 4  5  6  7]\n",
      " [16 17 18 19]]\n",
      "[ 3  7 11]\n",
      "[11  7  3]\n"
     ]
    }
   ],
   "source": [
    "b = np.arange(24).reshape(2,3,4)\n",
    "print(b)\n",
    "print(b[:,0,0])\n",
    "print(b[0,1,:])\n",
    "print(b[:,1,:])\n",
    "print(b[0,:,-1])\n",
    "print(b[0,::-1,-1])"
   ],
   "metadata": {
    "collapsed": false,
    "pycharm": {
     "name": "#%%\n"
    }
   }
  },
  {
   "cell_type": "code",
   "execution_count": 943,
   "outputs": [
    {
     "name": "stdout",
     "output_type": "stream",
     "text": [
      "(array([0, 0, 1], dtype=int64), array([0, 2, 1], dtype=int64))\n"
     ]
    }
   ],
   "source": [
    "a = np.arange(6).reshape(2,3)\n",
    "even = np.where(a % 2 == 0)\n",
    "print(even)"
   ],
   "metadata": {
    "collapsed": false,
    "pycharm": {
     "name": "#%%\n"
    }
   }
  },
  {
   "cell_type": "code",
   "execution_count": 944,
   "outputs": [
    {
     "name": "stdout",
     "output_type": "stream",
     "text": [
      "[None, ['word', 123], 'test']\n"
     ]
    }
   ],
   "source": [
    "x =[1, True, None, [\"word\", 123], \"test\"]\n",
    "print(x[2:])"
   ],
   "metadata": {
    "collapsed": false,
    "pycharm": {
     "name": "#%%\n"
    }
   }
  },
  {
   "cell_type": "code",
   "execution_count": 945,
   "outputs": [
    {
     "name": "stdout",
     "output_type": "stream",
     "text": [
      "[[ 1  2  3  4  5]\n",
      " [ 6  7  8  9 10]\n",
      " [11 12 13 14 15]\n",
      " [16 17 18 19 20]]\n",
      "[[ 1  2  3  4  5]\n",
      " [ 7  9 11 13 15]\n",
      " [18 21 24 27 30]\n",
      " [34 38 42 46 50]]\n",
      "[[ 1  3  6 10 15]\n",
      " [ 6 13 21 30 40]\n",
      " [11 23 36 50 65]\n",
      " [16 33 51 70 90]]\n",
      "[[    1     2     3     4     5]\n",
      " [    6    14    24    36    50]\n",
      " [   66   168   312   504   750]\n",
      " [ 1056  2856  5616  9576 15000]]\n",
      "[[      1       2       6      24     120]\n",
      " [      6      42     336    3024   30240]\n",
      " [     11     132    1716   24024  360360]\n",
      " [     16     272    4896   93024 1860480]]\n"
     ]
    }
   ],
   "source": [
    "a = np.arange(1,21).reshape(4,5)\n",
    "print(a)\n",
    "b = np.cumsum(a, axis=0)\n",
    "print(b)\n",
    "c = np.cumsum(a,axis=1)\n",
    "print(c)\n",
    "d = np.cumprod(a,axis=0)\n",
    "e = np.cumprod(a,axis=1)\n",
    "print(d)\n",
    "print(e)"
   ],
   "metadata": {
    "collapsed": false,
    "pycharm": {
     "name": "#%%\n"
    }
   }
  },
  {
   "cell_type": "code",
   "execution_count": 946,
   "outputs": [
    {
     "name": "stdout",
     "output_type": "stream",
     "text": [
      "There are altogether 855 rows in the data file ../SGresidents.csv.\n",
      "\n",
      "2016\n",
      "1646400 1960 Total Residents\n"
     ]
    }
   ],
   "source": [
    "filename = \"../SGresidents.csv\"\n",
    "data = np.genfromtxt(filename, dtype=['i2', 'U50', 'i8'],\n",
    "                     delimiter=',', names=True)\n",
    "# print(data[:5]) #peep into data\n",
    "print(f'There are altogether {len(data)} rows in the data file {filename}.\\n')\n",
    "keyword = 'Total Residents'\n",
    "totalresidents = data[data['level_1']==keyword]\n",
    "\n",
    "max = totalresidents['value'].argmax()\n",
    "print(totalresidents[max]['year'])\n",
    "\n",
    "min = totalresidents['value'].min()\n",
    "min_index = totalresidents['value'].argmin()\n",
    "print(min,totalresidents[min_index]['year'], totalresidents[min_index]['level_1'])"
   ],
   "metadata": {
    "collapsed": false,
    "pycharm": {
     "name": "#%%\n"
    }
   }
  },
  {
   "cell_type": "code",
   "execution_count": 947,
   "outputs": [
    {
     "name": "stdout",
     "output_type": "stream",
     "text": [
      "11.55 2.89 133.31 8.33\n"
     ]
    }
   ],
   "source": [
    "a = np.arange(10,50,0.5)\n",
    "b = np.arange(10,20,0.1)\n",
    "\n",
    "print(np.std(a).round(2),np.std(b).round(2),np.var(a).round(2),np.var(b).round(2)) "
   ],
   "metadata": {
    "collapsed": false,
    "pycharm": {
     "name": "#%%\n"
    }
   }
  },
  {
   "cell_type": "code",
   "execution_count": 948,
   "outputs": [
    {
     "name": "stdout",
     "output_type": "stream",
     "text": [
      "[[ 30 635 820  86]\n",
      " [270 337 238 919]\n",
      " [252  24 134 852]]\n",
      "[820 919 852]\n",
      "919\n",
      "Location of maximum value: (1, 3)\n",
      "[ 30 238  24]\n",
      "24\n",
      "Location of maximum value: (2, 1)\n"
     ]
    }
   ],
   "source": [
    "a = np.random.randint(1,1000,(3,4))\n",
    "print(a)\n",
    "print(np.max(a,axis=1))\n",
    "print(np.max(a))\n",
    "print('Location of maximum value:',np.unravel_index(np.argmax(a),a.shape))\n",
    "print(np.min(a,axis=1))\n",
    "print(np.min(a))\n",
    "print('Location of maximum value:',np.unravel_index(np.argmin(a),a.shape))"
   ],
   "metadata": {
    "collapsed": false,
    "pycharm": {
     "name": "#%%\n"
    }
   }
  }
 ],
 "metadata": {
  "kernelspec": {
   "display_name": "Python 3",
   "language": "python",
   "name": "python3"
  },
  "language_info": {
   "codemirror_mode": {
    "name": "ipython",
    "version": 2
   },
   "file_extension": ".py",
   "mimetype": "text/x-python",
   "name": "python",
   "nbconvert_exporter": "python",
   "pygments_lexer": "ipython2",
   "version": "2.7.6"
  }
 },
 "nbformat": 4,
 "nbformat_minor": 0
}