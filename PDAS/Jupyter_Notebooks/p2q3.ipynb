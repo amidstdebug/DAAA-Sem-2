{
 "cells": [
  {
   "cell_type": "code",
   "execution_count": 13,
   "metadata": {
    "collapsed": true
   },
   "outputs": [],
   "source": [
    "list_students1 = ['Ann', 'Brandon', 'Christine', 'Daniel', 'Francis', 'Eileen', 'Gloria', 'Henry', 'Irene', 'John']\n",
    "\n",
    "list_weights1 = [45,90,52,75, 48, 65, 60, 85, 49, 100]\n",
    "\n",
    "list_heights1 = [1.54, 1.85, 1.66, 1.75, 1.58, 1.71, 1.68, 1.78, 1.62, 1.88]\n",
    "\n"
   ]
  },
  {
   "cell_type": "code",
   "execution_count": 14,
   "outputs": [],
   "source": [
    "list_students2 =[]\n",
    "list_weights2 = []\n",
    "list_heights2 =[]\n"
   ],
   "metadata": {
    "collapsed": false,
    "pycharm": {
     "name": "#%%\n"
    }
   }
  },
  {
   "cell_type": "code",
   "execution_count": 15,
   "outputs": [],
   "source": [
    "x = 2\n"
   ],
   "metadata": {
    "collapsed": false,
    "pycharm": {
     "name": "#%%\n"
    }
   }
  },
  {
   "cell_type": "code",
   "execution_count": 16,
   "outputs": [],
   "source": [
    "for i in range(x):\n",
    "    list_students2.append(str(input(\"What is your name? \")))\n",
    "    list_weights2.append(round(float(input('What is your weight? '))))\n",
    "    list_heights2.append(float(input('What is your height? ')))"
   ],
   "metadata": {
    "collapsed": false,
    "pycharm": {
     "name": "#%%\n"
    }
   }
  },
  {
   "cell_type": "code",
   "execution_count": 17,
   "outputs": [],
   "source": [
    "list_students_all = list_students1\n",
    "list_weights_all = list_weights1\n",
    "list_heights_all = list_heights1\n",
    "for q in range(x):\n",
    "    list_students_all.append(list_students2[q])\n",
    "    list_weights_all.append(list_weights2[q])\n",
    "    list_heights_all.append(list_heights2[q])\n"
   ],
   "metadata": {
    "collapsed": false,
    "pycharm": {
     "name": "#%%\n"
    }
   }
  },
  {
   "cell_type": "code",
   "execution_count": 18,
   "outputs": [],
   "source": [
    "bmiList = []\n",
    "bmi = 0"
   ],
   "metadata": {
    "collapsed": false,
    "pycharm": {
     "name": "#%%\n"
    }
   }
  },
  {
   "cell_type": "code",
   "execution_count": 19,
   "outputs": [],
   "source": [
    "for c in range(len(list_weights_all)):\n",
    "    bmi = float(list_weights_all[c]) / float(list_heights_all[c]**2)\n",
    "    bmiList.append(str(list_students_all[c]) +\": \"+ str(bmi))\n"
   ],
   "metadata": {
    "collapsed": false,
    "pycharm": {
     "name": "#%%\n"
    }
   }
  },
  {
   "cell_type": "code",
   "execution_count": 20,
   "outputs": [
    {
     "name": "stdout",
     "output_type": "stream",
     "text": [
      "['Ann: 18.974531961544947', 'Brandon: 26.296566837107374', 'Christine: 18.870663376397157', 'Daniel: 24.489795918367346', 'Francis: 19.227687870533565', 'Eileen: 22.229061933586404', 'Gloria: 21.258503401360546', 'Henry: 26.82742078020452', 'Irene: 18.670934308794386', 'John: 28.293345405160707', 'J: 21.604938271604937', 'K: 24.691358024691358']\n"
     ]
    }
   ],
   "source": [
    "print(bmiList)\n"
   ],
   "metadata": {
    "collapsed": false,
    "pycharm": {
     "name": "#%%\n"
    }
   }
  }
 ],
 "metadata": {
  "kernelspec": {
   "display_name": "Python 3",
   "language": "python",
   "name": "python3"
  },
  "language_info": {
   "codemirror_mode": {
    "name": "ipython",
    "version": 2
   },
   "file_extension": ".py",
   "mimetype": "text/x-python",
   "name": "python",
   "nbconvert_exporter": "python",
   "pygments_lexer": "ipython2",
   "version": "2.7.6"
  }
 },
 "nbformat": 4,
 "nbformat_minor": 0
}