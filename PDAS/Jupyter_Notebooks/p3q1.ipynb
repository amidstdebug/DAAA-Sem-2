{
 "cells": [
  {
   "cell_type": "code",
   "execution_count": 69,
   "metadata": {
    "collapsed": true,
    "pycharm": {
     "name": "#%%\n"
    }
   },
   "outputs": [],
   "source": [
    "import random\n",
    "\n",
    "import numpy as np"
   ]
  },
  {
   "cell_type": "code",
   "execution_count": 70,
   "outputs": [
    {
     "name": "stdout",
     "output_type": "stream",
     "text": [
      "[0 1 2 3 4 5 6 7]\n"
     ]
    }
   ],
   "source": [
    "arr = np.arange(0,8, dtype=int)\n",
    "\n",
    "print(arr)"
   ],
   "metadata": {
    "collapsed": false,
    "pycharm": {
     "name": "#%%\n"
    }
   }
  },
  {
   "cell_type": "code",
   "execution_count": 71,
   "outputs": [
    {
     "name": "stdout",
     "output_type": "stream",
     "text": [
      "[1.2 1.4 1.6 1.8 2. ]\n"
     ]
    }
   ],
   "source": [
    "arr2 = np.linspace(1.2,2.0,5)\n",
    "print(arr2)"
   ],
   "metadata": {
    "collapsed": false,
    "pycharm": {
     "name": "#%%\n"
    }
   }
  },
  {
   "cell_type": "code",
   "execution_count": 72,
   "outputs": [
    {
     "name": "stdout",
     "output_type": "stream",
     "text": [
      "['mary' 'john' 'peter' 'christine']\n"
     ]
    }
   ],
   "source": [
    "arr3 = np.array(['mary','john','peter', 'christine'])\n",
    "print(arr3)"
   ],
   "metadata": {
    "collapsed": false,
    "pycharm": {
     "name": "#%%\n"
    }
   }
  },
  {
   "cell_type": "code",
   "execution_count": 73,
   "outputs": [
    {
     "name": "stdout",
     "output_type": "stream",
     "text": [
      "['2017-10-01' '2017-10-02' '2017-10-03' '2017-10-04' '2017-10-05'\n",
      " '2017-10-06' '2017-10-07' '2017-10-08' '2017-10-09' '2017-10-10'\n",
      " '2017-10-11' '2017-10-12' '2017-10-13' '2017-10-14' '2017-10-15'\n",
      " '2017-10-16' '2017-10-17' '2017-10-18' '2017-10-19' '2017-10-20'\n",
      " '2017-10-21' '2017-10-22' '2017-10-23' '2017-10-24' '2017-10-25'\n",
      " '2017-10-26' '2017-10-27' '2017-10-28' '2017-10-29' '2017-10-30'\n",
      " '2017-10-31']\n"
     ]
    }
   ],
   "source": [
    "# noinspection PyTypeChecker\n",
    "arr4 = np.arange('2017-10-01','2017-11-01', dtype='datetime64[D]')\n",
    "print(arr4)"
   ],
   "metadata": {
    "collapsed": false,
    "pycharm": {
     "name": "#%%\n"
    }
   }
  },
  {
   "cell_type": "code",
   "execution_count": 74,
   "outputs": [
    {
     "name": "stdout",
     "output_type": "stream",
     "text": [
      "[[0.61533709 0.70598449 0.3747892  0.60229547 0.72911269 0.68316203\n",
      "  0.73388969 0.09573962 0.58157651 0.24678372]]\n"
     ]
    }
   ],
   "source": [
    "arr5 = np.random.rand(1,10)\n",
    "print(arr5)"
   ],
   "metadata": {
    "collapsed": false,
    "pycharm": {
     "name": "#%%\n"
    }
   }
  },
  {
   "cell_type": "code",
   "execution_count": 75,
   "outputs": [
    {
     "name": "stdout",
     "output_type": "stream",
     "text": [
      "[198 138 127 126 113 135 123 150 170 123 164 175 121 189 146 136 128 170\n",
      " 175 106]\n"
     ]
    }
   ],
   "source": [
    "arr6 = np.random.randint(100,200,20)\n",
    "print(arr6)"
   ],
   "metadata": {
    "collapsed": false,
    "pycharm": {
     "name": "#%%\n"
    }
   }
  },
  {
   "cell_type": "code",
   "execution_count": 76,
   "outputs": [
    {
     "name": "stdout",
     "output_type": "stream",
     "text": [
      "[ 5.          5.10204082  5.20408163  5.30612245  5.40816327  5.51020408\n",
      "  5.6122449   5.71428571  5.81632653  5.91836735  6.02040816  6.12244898\n",
      "  6.2244898   6.32653061  6.42857143  6.53061224  6.63265306  6.73469388\n",
      "  6.83673469  6.93877551  7.04081633  7.14285714  7.24489796  7.34693878\n",
      "  7.44897959  7.55102041  7.65306122  7.75510204  7.85714286  7.95918367\n",
      "  8.06122449  8.16326531  8.26530612  8.36734694  8.46938776  8.57142857\n",
      "  8.67346939  8.7755102   8.87755102  8.97959184  9.08163265  9.18367347\n",
      "  9.28571429  9.3877551   9.48979592  9.59183673  9.69387755  9.79591837\n",
      "  9.89795918 10.        ]\n"
     ]
    }
   ],
   "source": [
    "arr7 = np.linspace(5,10,50)\n",
    "print(arr7)"
   ],
   "metadata": {
    "collapsed": false,
    "pycharm": {
     "name": "#%%\n"
    }
   }
  },
  {
   "cell_type": "code",
   "execution_count": 77,
   "outputs": [
    {
     "name": "stdout",
     "output_type": "stream",
     "text": [
      "[[1 2 3 4]\n",
      " [5 6 7 8]]\n"
     ]
    }
   ],
   "source": [
    "arr8 = np.array([(1,2,3,4), (5,6,7,8)])\n",
    "print(arr8)"
   ],
   "metadata": {
    "collapsed": false,
    "pycharm": {
     "name": "#%%\n"
    }
   }
  },
  {
   "cell_type": "code",
   "execution_count": 78,
   "outputs": [
    {
     "name": "stdout",
     "output_type": "stream",
     "text": [
      "[[0. 0. 0. 0.]\n",
      " [0. 0. 0. 0.]\n",
      " [0. 0. 0. 0.]]\n"
     ]
    }
   ],
   "source": [
    "arr9 = np.zeros([3,4])\n",
    "print(arr9)"
   ],
   "metadata": {
    "collapsed": false,
    "pycharm": {
     "name": "#%%\n"
    }
   }
  },
  {
   "cell_type": "code",
   "execution_count": 79,
   "outputs": [
    {
     "name": "stdout",
     "output_type": "stream",
     "text": [
      "[[1 1 1 1 1]\n",
      " [1 1 1 1 1]\n",
      " [1 1 1 1 1]\n",
      " [1 1 1 1 1]\n",
      " [1 1 1 1 1]]\n"
     ]
    }
   ],
   "source": [
    "arr10 = np.full([5,5],1)\n",
    "print(arr10)"
   ],
   "metadata": {
    "collapsed": false,
    "pycharm": {
     "name": "#%%\n"
    }
   }
  },
  {
   "cell_type": "code",
   "execution_count": 80,
   "outputs": [
    {
     "name": "stdout",
     "output_type": "stream",
     "text": [
      "[[10.5 10.5 10.5]\n",
      " [10.5 10.5 10.5]\n",
      " [10.5 10.5 10.5]\n",
      " [10.5 10.5 10.5]]\n"
     ]
    }
   ],
   "source": [
    "arr11 = np.full([4,3],10.5)\n",
    "print(arr11)"
   ],
   "metadata": {
    "collapsed": false,
    "pycharm": {
     "name": "#%%\n"
    }
   }
  },
  {
   "cell_type": "code",
   "execution_count": 81,
   "outputs": [
    {
     "name": "stdout",
     "output_type": "stream",
     "text": [
      "[[1. 0. 0. 0.]\n",
      " [0. 1. 0. 0.]\n",
      " [0. 0. 1. 0.]\n",
      " [0. 0. 0. 1.]]\n"
     ]
    }
   ],
   "source": [
    "arr12 = np.identity(4)\n",
    "print(arr12)"
   ],
   "metadata": {
    "collapsed": false,
    "pycharm": {
     "name": "#%%\n"
    }
   }
  },
  {
   "cell_type": "code",
   "execution_count": 82,
   "outputs": [
    {
     "name": "stdout",
     "output_type": "stream",
     "text": [
      "[[3.11 2.19 5.51 5.99 1.24 5.66 3.32 2.29]\n",
      " [3.07 4.03 1.37 5.38 4.78 2.2  3.02 2.52]\n",
      " [2.5  5.91 4.88 2.94 4.29 1.54 1.8  4.75]\n",
      " [3.43 1.66 5.58 3.34 1.46 5.83 3.94 4.92]]\n"
     ]
    }
   ],
   "source": [
    "arr13 = np.around((np.random.uniform(1,6,(4,8))),2)\n",
    "print(arr13)"
   ],
   "metadata": {
    "collapsed": false,
    "pycharm": {
     "name": "#%%\n"
    }
   }
  },
  {
   "cell_type": "code",
   "execution_count": 83,
   "outputs": [
    {
     "name": "stdout",
     "output_type": "stream",
     "text": [
      "[[[ 1.30870525e-311  1.30870042e-311  2.64980517e+180  1.90886933e+136\n",
      "    3.95813353e+257  4.85178805e+021  7.69316580e+218]\n",
      "  [ 1.94812178e-022  1.25013738e+243  7.48956328e+247  4.17321864e+199\n",
      "    1.70562045e+161  4.41854587e+257  4.84865702e+199]\n",
      "  [ 6.00735883e-067  2.01247465e-022  6.94157041e+228  1.70168728e+214\n",
      "    2.46112019e+242  9.83167631e+165  1.56544978e-076]\n",
      "  [ 7.34058388e+223  4.36361906e+242  1.32319299e+199  1.40157949e+012\n",
      "    2.26584136e+276  1.56544978e-076  7.34058388e+223]\n",
      "  [ 5.88242065e+025  4.84886969e-023  2.38296654e+006  5.48271264e-086\n",
      "    4.43352822e+025  1.70658590e+093  5.48430220e-086]\n",
      "  [ 2.17315421e+016  2.51230852e+093  1.08216480e+045  1.51499183e-013\n",
      "    3.18302720e+088  1.49838352e+151  9.94008558e+044]]\n",
      "\n",
      " [[ 1.44454662e+214  1.71201117e+214  2.64982496e+180  2.19096916e+252\n",
      "    3.04229617e-067  1.87315672e-309  1.30870525e-311]\n",
      "  [ 1.30870042e-311  1.30870525e-311 -3.48042021e-311  1.65159587e+093\n",
      "    6.01207236e-067  1.42512218e+064  1.90887135e+136]\n",
      "  [ 4.33581893e+021  3.25261397e+035  1.38831290e+093  1.75137897e+190\n",
      "    3.68415081e+180  4.79161329e+006  4.79232341e+116]\n",
      "  [ 1.30741258e+079  6.50751136e+029  1.13584470e-036  2.31850598e+088\n",
      "    6.46594438e-014  1.25013738e+243  7.48956328e+247]\n",
      "  [ 2.88674750e-013  1.11178063e-134  1.03627133e+074  2.75698558e+040\n",
      "    1.75137897e+190  3.68415081e+180  2.02446113e+267]\n",
      "  [ 3.54900590e+194  3.06828822e+257  6.78847420e+112  4.97318503e+247\n",
      "    1.32291102e+136  3.60651478e+079  1.44136297e+214]]\n",
      "\n",
      " [[ 4.63838195e+064  2.38108576e+077  4.85668413e-028  1.31775864e+079\n",
      "    1.65279660e+122  4.85672278e-028  7.69847862e+218]\n",
      "  [ 1.66323366e+050  1.06317887e+248  1.62208689e+219  1.24874078e+136\n",
      "    2.84993454e+016  2.57210559e+064  9.88232927e+024]\n",
      "  [ 8.24887676e+015  2.58744402e+161  2.25566379e+137  7.33955165e+223\n",
      "    9.28575931e+242  1.23927390e+224  5.81751902e+252]\n",
      "  [ 1.02941931e-071  1.52591647e-307  4.27449313e+006  9.17271736e+227\n",
      "    2.26322481e+006  1.01115425e-307  9.92990526e+030]\n",
      "  [ 7.01496976e+054  8.71777801e+150  4.67167966e+025  1.30741258e+079\n",
      "    6.50751136e+029  4.21880828e+175  5.66049514e+088]\n",
      "  [ 1.75140172e+103  8.72582583e+150  3.11731168e+088  4.23915628e+088\n",
      "    4.85674190e-028  7.69847862e+218  5.65969088e+088]]\n",
      "\n",
      " [[ 6.96051667e+252  9.18848758e+025  1.42384542e+064  2.11758116e+214\n",
      "    1.75488098e+064  4.85669202e-028  2.91141158e+088]\n",
      "  [ 6.78847422e+112  4.39240134e+096  1.58056482e+103  1.49735273e+248\n",
      "    3.59196316e+160  1.17075759e+214  9.67223612e+025]\n",
      "  [ 1.62348224e+219  4.39132574e+096  3.73373138e+247  8.91639244e+252\n",
      "    3.95614168e+252  1.65023927e+137  9.34839993e+025]\n",
      "  [ 2.15196058e-013  8.29772277e-072  1.34814729e+021  1.29844095e+074\n",
      "    1.29429237e+074  4.01494536e+078  5.38814855e-307]\n",
      "  [ 7.07344947e+025  2.87176101e+101  9.95052550e+044  3.73373138e+247\n",
      "    8.91639244e+252  1.43646292e+074  4.36361906e+242]\n",
      "  [ 1.32319299e+199  1.40157949e+012  1.51464686e+180  3.04665428e-067\n",
      "    4.39180235e+199  9.05669237e+044  7.32815838e+223]]\n",
      "\n",
      " [[ 1.39180528e+093  8.71453749e+150  1.65864293e-071  1.29383618e+098\n",
      "    1.51499444e+026  7.26089730e-043  1.36808015e+069]\n",
      "  [ 1.66237521e+151  1.48883812e-076  1.45198099e+079  1.46046511e+045\n",
      "    2.61943155e-310  1.46972270e-200  1.87731028e-309]\n",
      "  [ 1.30870074e-311  1.30869956e-311  4.04452398e-311  1.96859884e-268\n",
      "    5.29978149e+180  3.38715345e-307  1.33360328e+241]\n",
      "  [ 4.31571504e-310  3.06836125e+257  8.73989992e+245  2.84118260e-309\n",
      "    2.78681707e-309  2.78681707e-309  2.78681707e-309]\n",
      "  [ 2.78138476e-309  2.78138476e-309  2.78138476e-309  8.20252618e-304\n",
      "    2.78138476e-309  2.78138476e-309  2.78138476e-309]\n",
      "  [ 1.81375841e+265  1.27630793e-303 -3.83691800e-311  5.48094824e-294\n",
      "    3.81860922e-029  5.76402061e-188  7.16866764e-299]]]\n"
     ]
    }
   ],
   "source": [
    "arr14 = np.empty([5,6,7])\n",
    "print(arr14)"
   ],
   "metadata": {
    "collapsed": false,
    "pycharm": {
     "name": "#%%\n"
    }
   }
  },
  {
   "cell_type": "code",
   "execution_count": 84,
   "outputs": [
    {
     "name": "stdout",
     "output_type": "stream",
     "text": [
      "int32\n"
     ]
    }
   ],
   "source": [
    "arr15 = np.array([1.55,1.73,1.9,1.72,1.66,1.8])\n",
    "arr16 = np.array\\\n",
    "    (\n",
    "        [\n",
    "            ('red', 'green', 'yellow', 'blue'),\n",
    "            (True,False, False, True),\n",
    "            ('2017-10-01', '2017-11-11', '2017-12-23', '2018-03-31')\n",
    "        ]\n",
    "    )\n",
    "arr17 = np.array(\n",
    "                    [\n",
    "                        [\n",
    "                            (10,9,8,7),\n",
    "                             (6,5,4,3)\n",
    "                        ],\n",
    "                        [\n",
    "                            (1,2,3,4),\n",
    "                            (5,6,7,8)\n",
    "                        ]\n",
    "                    ]\n",
    "                )\n",
    "print(arr17.dtype)"
   ],
   "metadata": {
    "collapsed": false,
    "pycharm": {
     "name": "#%%\n"
    }
   }
  },
  {
   "cell_type": "code",
   "execution_count": 85,
   "outputs": [
    {
     "name": "stdout",
     "output_type": "stream",
     "text": [
      "['Mary' 'John' 'Bob' 'Zoe' 'Chris' 'Ann' 'Leon' 'Kathy' 'Sam']\n"
     ]
    }
   ],
   "source": [
    "a = np.array([ \t['Mary',\t'John',\t'Bob'],\n",
    "               \t['Zoe', \t'Chris',\t'Ann'],\n",
    "               \t['Leon', 'Kathy','Sam']])\n",
    "b = a.flatten()\n",
    "print(b)"
   ],
   "metadata": {
    "collapsed": false,
    "pycharm": {
     "name": "#%%\n"
    }
   }
  },
  {
   "cell_type": "code",
   "execution_count": 86,
   "outputs": [
    {
     "name": "stdout",
     "output_type": "stream",
     "text": [
      "[[15 16 17 18 19]\n",
      " [20 21 22 23 24]\n",
      " [25 26 27 28 29]]\n"
     ]
    }
   ],
   "source": [
    "arr18 = np.arange(15,30).reshape(3,5)\n",
    "print(arr18)"
   ],
   "metadata": {
    "collapsed": false,
    "pycharm": {
     "name": "#%%\n"
    }
   }
  },
  {
   "cell_type": "code",
   "execution_count": 87,
   "outputs": [
    {
     "name": "stdout",
     "output_type": "stream",
     "text": [
      "[ 1  2  3  4  5  6  7  8  9 10 11 12]\n"
     ]
    }
   ],
   "source": [
    "b = np.array([ [1,2,3,4,5,6], [7,8,9,10,11,12]])\n",
    "arr = np.concatenate(b)\n",
    "print(arr)"
   ],
   "metadata": {
    "collapsed": false,
    "pycharm": {
     "name": "#%%\n"
    }
   }
  },
  {
   "cell_type": "code",
   "execution_count": 88,
   "outputs": [
    {
     "name": "stdout",
     "output_type": "stream",
     "text": [
      "[[ 1  2  3  4  5  6]\n",
      " [ 7  8  9 10 11 12]]\n",
      "\n",
      "\n",
      "[[ 1  7]\n",
      " [ 2  8]\n",
      " [ 3  9]\n",
      " [ 4 10]\n",
      " [ 5 11]\n",
      " [ 6 12]]\n"
     ]
    }
   ],
   "source": [
    "a = np.array([ [1,2,3,4,5,6], [7,8,9,10,11,12]])\n",
    "print(a)\n",
    "print('\\n')\n",
    "arr = np.transpose(a)\n",
    "print(arr)"
   ],
   "metadata": {
    "collapsed": false,
    "pycharm": {
     "name": "#%%\n"
    }
   }
  },
  {
   "cell_type": "code",
   "execution_count": 89,
   "outputs": [
    {
     "name": "stdout",
     "output_type": "stream",
     "text": [
      "[[ 1.   2.   3. ]\n",
      " [ 4.   5.   6. ]\n",
      " [ 7.   8.   9. ]\n",
      " [ 1.5  1.5  1.5]\n",
      " [ 1.5  1.5  1.5]\n",
      " [ 1.5  1.5  1.5]\n",
      " [ 0.   1.   2. ]\n",
      " [ 3.   4.   5. ]\n",
      " [ 6.   7.   8. ]\n",
      " [ 9.  10.  11. ]\n",
      " [12.  13.  14. ]]\n"
     ]
    }
   ],
   "source": [
    "a = np.array([[ 1,2,3],[ 4,5,6],[7,8,9]])\n",
    "b = np.full((3,3),1.5)\n",
    "c = np.arange(0,15).reshape(5,3)\n",
    "print(np.concatenate([a,b,c]))"
   ],
   "metadata": {
    "collapsed": false,
    "pycharm": {
     "name": "#%%\n"
    }
   }
  },
  {
   "cell_type": "code",
   "execution_count": 90,
   "outputs": [
    {
     "name": "stdout",
     "output_type": "stream",
     "text": [
      "[[ 1  2  3  4 11 19 18 16 18 17  0  1  2  3]\n",
      " [ 4  5  6  7 15 14 11 18 12 17  4  5  6  7]\n",
      " [ 7  8  9 10 13 12 16 17 16 16  8  9 10 11]\n",
      " [11 12 13 14 17 17 17 19 19 13 12 13 14 15]]\n"
     ]
    }
   ],
   "source": [
    "a = np.array([[ 1,2,3,4],[ 4,5,6,7],[7,8,9,10],[11,12,13,14]])\n",
    "b = np.random.randint(10,20,(4,6))\n",
    "c = np.arange(0,16).reshape(4,4 )\n",
    "arr = []\n",
    "\n",
    "for i in range(len(a)):\n",
    "    arr.append(list((np.concatenate([a[i],b[i],c[i]]))))\n",
    "\n",
    "\n",
    "newarr = np.array(arr)\n",
    "print(newarr)"
   ],
   "metadata": {
    "collapsed": false,
    "pycharm": {
     "name": "#%%\n"
    }
   }
  },
  {
   "cell_type": "code",
   "execution_count": 91,
   "outputs": [
    {
     "name": "stdout",
     "output_type": "stream",
     "text": [
      "[175 145 113 169 153 159 184 140 171 167]\n",
      "[113 140 145 153 159 167 169 171 175 184]\n"
     ]
    }
   ],
   "source": [
    "arr_1 = np.random.randint(100,200,10)\n",
    "print(arr_1)\n",
    "print(np.sort(arr_1))"
   ],
   "metadata": {
    "collapsed": false,
    "pycharm": {
     "name": "#%%\n"
    }
   }
  }
 ],
 "metadata": {
  "kernelspec": {
   "display_name": "Python 3",
   "language": "python",
   "name": "python3"
  },
  "language_info": {
   "codemirror_mode": {
    "name": "ipython",
    "version": 2
   },
   "file_extension": ".py",
   "mimetype": "text/x-python",
   "name": "python",
   "nbconvert_exporter": "python",
   "pygments_lexer": "ipython2",
   "version": "2.7.6"
  }
 },
 "nbformat": 4,
 "nbformat_minor": 0
}