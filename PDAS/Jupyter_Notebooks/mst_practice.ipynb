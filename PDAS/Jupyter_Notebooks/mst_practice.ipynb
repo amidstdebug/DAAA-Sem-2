{
 "cells": [
  {
   "cell_type": "code",
   "execution_count": 625,
   "metadata": {
    "collapsed": true,
    "pycharm": {
     "name": "#%%\n"
    }
   },
   "outputs": [
    {
     "name": "stdout",
     "output_type": "stream",
     "text": [
      "['lottery', 'MLM', 'NOT spam', 'Casino', 'no obligation', 'Cash', 'advert']\n",
      "['advert', 'Cash', 'no obligation', 'Casino', 'NOT spam', 'MLM', 'lottery']\n",
      "['lottery', 'mlm', 'not spam', 'casino', 'no obligation', 'cash', 'advert']\n"
     ]
    }
   ],
   "source": [
    "spamWords=\"lottery,NOT spam,Casino,no obligation,Cash\"\n",
    "blacklist =spamWords.split(',')\n",
    "blacklist.insert(1,'MLM')\n",
    "blacklist.append('advert')\n",
    "\n",
    "print(blacklist)\n",
    "list2=[]\n",
    "\n",
    "for x in reversed(blacklist):\n",
    "    list2.append(x)\n",
    "\n",
    "print(list2)\n",
    "\n",
    "for i in range(len(blacklist)):\n",
    "    blacklist[i]= blacklist[i].lower()\n",
    "\n",
    "print(blacklist)"
   ]
  },
  {
   "cell_type": "code",
   "execution_count": 626,
   "outputs": [
    {
     "name": "stdout",
     "output_type": "stream",
     "text": [
      "Mon has 123 attacks\n",
      "Tue has 89 attacks\n",
      "Wed has 78 attacks\n",
      "Thu has 111 attacks\n",
      "Fri has 219 attacks\n",
      "Sat has 1620 attacks\n",
      "Sun has 2752 attacks\n",
      "Highest number of 2752 attacks on Sun.\n",
      "Total of 4992 attacks recorded this week.\n"
     ]
    }
   ],
   "source": [
    "def displayList(myLog):\n",
    "    high=0\n",
    "    total=0\n",
    "    highestDay=''\n",
    "    for k,v in myLog.items():\n",
    "        print(k,'has',v, 'attacks')\n",
    "    attacks = []\n",
    "    for k,v in myLog.items():\n",
    "        attacks.append(v)\n",
    "    total = sum(attacks)\n",
    "    high = max(attacks)\n",
    "    week1_invert = {v:k for k,v in myLog.items()}\n",
    "    highestDay = week1_invert[high]\n",
    "    print(f'Highest number of {high} attacks on {highestDay}.\\nTotal of {total} attacks recorded this week.')\n",
    "\n",
    "\n",
    "log_info =\\\n",
    "    {'Mon':123,'Tue':89,'Wed':78,'Thu':111,\n",
    "    'Fri':219,'Sat':1620,'Sun':2752}\n",
    "\n",
    "displayList(log_info)"
   ],
   "metadata": {
    "collapsed": false,
    "pycharm": {
     "name": "#%%\n"
    }
   }
  },
  {
   "cell_type": "code",
   "execution_count": 627,
   "outputs": [
    {
     "name": "stdout",
     "output_type": "stream",
     "text": [
      "['lottery', 'casino', 'cash', 'MLM']\n",
      "['bff@email.com', 'myotherhalf@yahoo.com', 'frenemy@hotmail.com']\n"
     ]
    }
   ],
   "source": [
    "blacklist = \\\n",
    "    [\n",
    "    'lottery','not spam','casino','no obligation',\n",
    "    'cash','Act now','MLM','advert'\n",
    "    ]\n",
    "whitelist =\\\n",
    "    [\n",
    "    'sp.edu.sg','myfriend@gmail.com',\n",
    "    'frenemy@hotmail.com',\n",
    "    'myotherhalf@yahoo.com',\n",
    "    'bff@email.com',\n",
    "    'moe.edu.sg'\n",
    "    ]\n",
    "\n",
    "print(blacklist[::2])\n",
    "print(whitelist[4:1:-1])"
   ],
   "metadata": {
    "collapsed": false,
    "pycharm": {
     "name": "#%%\n"
    }
   }
  },
  {
   "cell_type": "code",
   "execution_count": 628,
   "outputs": [
    {
     "name": "stdout",
     "output_type": "stream",
     "text": [
      "This text is spam as it contains \"not spam\" in blacklist\n"
     ]
    }
   ],
   "source": [
    "for i in range(len(blacklist)):\n",
    "    blacklist[i]= blacklist[i].lower()\n",
    "\n",
    "def spamCheck(word):\n",
    "    if word!='':\n",
    "        for w in range(len(blacklist)):\n",
    "            if blacklist[w] in word:\n",
    "                check = True\n",
    "                if check:\n",
    "                    for t in range(len(whitelist)):\n",
    "                        if whitelist[t] in word:\n",
    "                            print(f'This text is not spam as \"{whitelist[t]}\" is in whitelist')\n",
    "                            return\n",
    "                        else:\n",
    "                            print(f'This text is spam as it contains \"{blacklist[w]}\" in blacklist')\n",
    "                            return\n",
    "        print(f'This text is not spam as it does not contain any word in blacklist')\n",
    "        return"
   ],
   "metadata": {
    "collapsed": false,
    "pycharm": {
     "name": "#%%\n"
    }
   }
  }
 ],
 "metadata": {
  "kernelspec": {
   "display_name": "Python 3",
   "language": "python",
   "name": "python3"
  },
  "language_info": {
   "codemirror_mode": {
    "name": "ipython",
    "version": 2
   },
   "file_extension": ".py",
   "mimetype": "text/x-python",
   "name": "python",
   "nbconvert_exporter": "python",
   "pygments_lexer": "ipython2",
   "version": "2.7.6"
  }
 },
 "nbformat": 4,
 "nbformat_minor": 0
}