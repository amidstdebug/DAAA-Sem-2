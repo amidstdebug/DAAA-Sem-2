{
 "cells": [
  {
   "cell_type": "code",
   "execution_count": 62,
   "metadata": {
    "collapsed": true,
    "pycharm": {
     "name": "#%%\n"
    }
   },
   "outputs": [],
   "source": [
    "s = 'Adrian:85|Bryan:80|Casey:73|Diana:90|Edwin:72|Fiona:83|George:45'\n",
    "s2 = s.split('|')\n",
    "s3 = []\n",
    "s4 = {}"
   ]
  },
  {
   "cell_type": "code",
   "execution_count": 63,
   "outputs": [],
   "source": [
    "for i in range(len(s2)):\n",
    "    s3.append((s2[i].split(':')))"
   ],
   "metadata": {
    "collapsed": false,
    "pycharm": {
     "name": "#%%\n"
    }
   }
  },
  {
   "cell_type": "code",
   "execution_count": 64,
   "outputs": [],
   "source": [
    "for q in range(len(s3)):\n",
    "    s4[str(s3[q][0])] = s3[q][1]"
   ],
   "metadata": {
    "collapsed": false,
    "pycharm": {
     "name": "#%%\n"
    }
   }
  },
  {
   "cell_type": "code",
   "execution_count": 65,
   "outputs": [
    {
     "name": "stdout",
     "output_type": "stream",
     "text": [
      "Adrian : 85\n",
      "Bryan : 80\n",
      "Casey : 73\n",
      "Diana : 90\n",
      "Edwin : 72\n",
      "Fiona : 83\n",
      "George : 45\n"
     ]
    }
   ],
   "source": [
    "for key,value in s4.items():\n",
    "    print(key, ':', value)"
   ],
   "metadata": {
    "collapsed": false,
    "pycharm": {
     "name": "#%%\n"
    }
   }
  }
 ],
 "metadata": {
  "kernelspec": {
   "display_name": "Python 3",
   "language": "python",
   "name": "python3"
  },
  "language_info": {
   "codemirror_mode": {
    "name": "ipython",
    "version": 2
   },
   "file_extension": ".py",
   "mimetype": "text/x-python",
   "name": "python",
   "nbconvert_exporter": "python",
   "pygments_lexer": "ipython2",
   "version": "2.7.6"
  }
 },
 "nbformat": 4,
 "nbformat_minor": 0
}