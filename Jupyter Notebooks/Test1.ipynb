{
 "cells": [
  {
   "cell_type": "code",
   "execution_count": 7,
   "metadata": {},
   "outputs": [],
   "source": [
    "x = 5\n",
    "aList = []\n",
    "maxVal = 0.0\n",
    "minVal = 0.0\n",
    "aMax = 1\n",
    "aMin = 0"
   ]
  },
  {
   "cell_type": "code",
   "execution_count": 8,
   "metadata": {
    "pycharm": {
     "name": "#%%\n"
    }
   },
   "outputs": [],
   "source": [
    "for i in range(x):\n",
    "    aList.append(float(input(f'Input Number {i+1}: ')))"
   ]
  },
  {
   "cell_type": "code",
   "execution_count": 9,
   "metadata": {
    "pycharm": {
     "name": "#%%\n"
    }
   },
   "outputs": [],
   "source": [
    "for q in range(len(aList)-1):\n",
    "    if aList[aMax] > aList[q]:\n",
    "        maxVal = aList[aMax]\n",
    "    aMax = aMax + 1"
   ]
  },
  {
   "cell_type": "code",
   "execution_count": 10,
   "metadata": {
    "pycharm": {
     "name": "#%%\n"
    }
   },
   "outputs": [],
   "source": [
    "minVal = aList[0]"
   ]
  },
  {
   "cell_type": "code",
   "execution_count": 11,
   "metadata": {
    "pycharm": {
     "name": "#%%\n"
    }
   },
   "outputs": [],
   "source": [
    "for q in range(len(aList)-1):\n",
    "    if aList[q+1] < minVal:\n",
    "        minVal = aList[q+1]\n"
   ]
  },
  {
   "cell_type": "code",
   "execution_count": 12,
   "metadata": {
    "pycharm": {
     "name": "#%%\n"
    }
   },
   "outputs": [
    {
     "name": "stdout",
     "output_type": "stream",
     "text": [
      "Max is: 6.0 \n",
      "Min is: 2.0\n",
      "The original list order is [2.0, 3.0, 4.0, 5.0, 6.0]\n",
      "List in reversed order is [6.0, 5.0, 4.0, 3.0, 2.0]\n"
     ]
    }
   ],
   "source": [
    "print(f'Max is: {maxVal} \\nMin is: {minVal}')#%%\n",
    "\n",
    "print(f'The original list order is {aList}')\n",
    "\n",
    "aList.reverse()\n",
    "\n",
    "print(f'List in reversed order is {aList}')\n",
    "\n",
    "aList.reverse()\n",
    "\n",
    "\n",
    "\n",
    "\n",
    "\n"
   ]
  }
 ],
 "metadata": {
  "kernelspec": {
   "display_name": "Python 3",
   "language": "python",
   "name": "python3"
  },
  "language_info": {
   "codemirror_mode": {
    "name": "ipython",
    "version": 3
   },
   "file_extension": ".py",
   "mimetype": "text/x-python",
   "name": "python",
   "nbconvert_exporter": "python",
   "pygments_lexer": "ipython3",
   "version": "3.8.5"
  }
 },
 "nbformat": 4,
 "nbformat_minor": 1
}